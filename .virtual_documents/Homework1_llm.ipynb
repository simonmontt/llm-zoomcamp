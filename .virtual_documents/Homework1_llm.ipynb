import requests 

docs_url = 'https://github.com/DataTalksClub/llm-zoomcamp/blob/main/01-intro/documents.json?raw=1'
docs_response = requests.get(docs_url)
documents_raw = docs_response.json()

documents = []

for course in documents_raw:
    course_name = course['course']

    for doc in course['documents']:
        doc['course'] = course_name
        documents.append(doc)


from elasticsearch import Elasticsearch


es_client = Elasticsearch('http://localhost:9200') 


es_client.info()


index_settings = {
    "settings": {
        "number_of_shards": 1,
        "number_of_replicas": 0
    },
    "mappings": {
        "properties": {
            "text": {"type": "text"},
            "section": {"type": "text"},
            "question": {"type": "text"},
            "course": {"type": "keyword"} 
        }
    }
}

index_name = "homework_questions"

#es_client.indices.create(index=index_name, body=index_settings)


documents[100]


from tqdm.auto import tqdm






for doc in tqdm(documents):
    es_client.index(index=index_name, document=doc)
